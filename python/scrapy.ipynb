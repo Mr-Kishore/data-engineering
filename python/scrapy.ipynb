{
 "cells": [
  {
   "cell_type": "code",
   "execution_count": null,
   "metadata": {},
   "outputs": [],
   "source": [
    "import scrapy\n",
    "from datetime import datetime\n",
    "\n",
    "class BusInfo(scrapy.Item):\n",
    "    bus_name = scrapy.Field()\n",
    "    departure_time = scrapy.Field()\n",
    "    arrival_time = scrapy.Field()\n",
    "\n",
    "class RedBusSpider(scrapy.Spider):\n",
    "    name = \"redbus\"\n",
    "    allowed_domains = [\"redbus.in\"]\n",
    "    \n",
    "    def __init__(self, *args, **kwargs):\n",
    "        super(RedBusSpider, self).__init__(*args, **kwargs)\n",
    "        \n",
    "        self.from_city_name = input(\"Enter the from city name: \")\n",
    "        self.from_city_id = input(\"Enter the from city ID: \")\n",
    "        self.to_city_name = input(\"Enter the to city name: \")\n",
    "        self.to_city_id = input(\"Enter the to city ID: \")\n",
    "        self.travel_date = self.validate_travel_date(input(\"Enter the travel date (DD-MMM-YYYY): \"))\n",
    "        \n",
    "        if self.travel_date == \"Invalid\":\n",
    "            raise ValueError(\"Invalid date format. Please enter in DD-MMM-YYYY format.\")\n",
    "        \n",
    "        self.start_urls = [\n",
    "            f\"https://www.redbus.in/bus-tickets/{self.from_city_name}-to-{self.to_city_name}?fromCityName={self.from_city_name}&fromCityId={self.from_city_id}&srcCountry=IND&toCityName={self.to_city_name}&toCityId={self.to_city_id}&destCountry=IND&onward={self.travel_date}&opId=0&busType=Any\"\n",
    "        ]\n",
    "    \n",
    "    def validate_travel_date(self, travel_date):\n",
    "        try:\n",
    "            return datetime.strptime(travel_date, \"%d-%b-%Y\").strftime(\"%d-%b-%Y\")\n",
    "        except ValueError:\n",
    "            return \"Invalid\"\n",
    "    \n",
    "    def start_requests(self):\n",
    "        for url in self.start_urls:\n",
    "            yield scrapy.Request(url, callback=self.parse)\n",
    "    \n",
    "    def parse(self, response):\n",
    "        buses = response.css(\".bus-items li.row-sec\")\n",
    "        \n",
    "        for bus in buses:\n",
    "            item = BusInfo()\n",
    "            item['bus_name'] = bus.css(\".travels::text\").get(default=\"N/A\").strip()\n",
    "            item['departure_time'] = bus.css(\".dp-time::text\").get(default=\"N/A\").strip()\n",
    "            item['arrival_time'] = bus.css(\".bp-time::text\").get(default=\"N/A\").strip()\n",
    "            yield item\n"
   ]
  }
 ],
 "metadata": {
  "kernelspec": {
   "display_name": "Python 3",
   "language": "python",
   "name": "python3"
  },
  "language_info": {
   "name": "python",
   "version": "3.13.2"
  }
 },
 "nbformat": 4,
 "nbformat_minor": 2
}
